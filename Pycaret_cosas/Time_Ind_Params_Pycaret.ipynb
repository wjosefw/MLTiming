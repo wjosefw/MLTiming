{
 "cells": [
  {
   "cell_type": "code",
   "execution_count": 1,
   "metadata": {},
   "outputs": [],
   "source": [
    "import os\n",
    "import numpy as np\n",
    "import pandas as pd\n",
    "import matplotlib.pyplot as plt\n",
    "from scipy.stats import skew, kurtosis\n",
    "\n",
    "\n",
    "import sys\n",
    "sys.path.append('/home/josea/DEEP_TIMING/DEEP_TIMING_VS/')"
   ]
  },
  {
   "cell_type": "code",
   "execution_count": 2,
   "metadata": {},
   "outputs": [],
   "source": [
    "from functions import (interpolate_pulses, create_position, calculate_gaussian_center_sigma, \n",
    "                       get_mean_pulse_from_set, move_to_reference, plot_gaussian, get_gaussian_params)"
   ]
  },
  {
   "cell_type": "code",
   "execution_count": 3,
   "metadata": {},
   "outputs": [],
   "source": [
    "# Load data \n",
    "dir = '/home/josea/DEEP_TIMING/DEEP_TIMING_VS/Na22_filtered_data/'\n",
    "\n",
    "test_data = np.load(os.path.join(dir, 'Na22_test_val.npz'))['data']"
   ]
  },
  {
   "cell_type": "code",
   "execution_count": 4,
   "metadata": {},
   "outputs": [],
   "source": [
    "# -------------------------------------------------------------------------\n",
    "#----------------------- IMPORTANT DEFINITIONS ----------------------------\n",
    "# -------------------------------------------------------------------------\n",
    "nbins = 91              # Num bins for all histograms                   \n",
    "t_shift = 8             # Time steps to move for the new positions\n",
    "EXTRASAMPLING = 8\n",
    "start_idx = 30\n",
    "stop_idx = 94\n",
    "start = start_idx*EXTRASAMPLING \n",
    "stop = stop_idx*EXTRASAMPLING "
   ]
  },
  {
   "cell_type": "code",
   "execution_count": 5,
   "metadata": {},
   "outputs": [
    {
     "name": "stdout",
     "output_type": "stream",
     "text": [
      "New number of time points: 4800\n",
      "New time step: 0.0250\n"
     ]
    }
   ],
   "source": [
    "# -------------------------------------------------------------------------\n",
    "#----------------------- INTERPOLATE PULSES -------------------------------\n",
    "# -------------------------------------------------------------------------\n",
    "new_test, new_time_step =  interpolate_pulses(test_data, EXTRASAMPLING = EXTRASAMPLING, time_step = 0.2)\n",
    "\n",
    "# Align pulses \n",
    "align_steps = 20\n",
    "\n",
    "new_test[:,:,1] = np.roll(new_test[:,:,1], align_steps)\n",
    "new_test[:,:align_steps,1] = np.random.normal(scale = 1e-6, size = align_steps)\n",
    "\n",
    "print('New number of time points: %.d' % (new_test.shape[1]))\n",
    "print('New time step: %.4f' % (new_time_step))"
   ]
  },
  {
   "cell_type": "code",
   "execution_count": 6,
   "metadata": {},
   "outputs": [],
   "source": [
    "# Move all pulses to a reference to eliminate time dependencies\n",
    "mean_pulse_dec0 = get_mean_pulse_from_set(new_test, channel = 0)\n",
    "mean_pulse_dec1 = get_mean_pulse_from_set(new_test, channel = 1)\n",
    "\n",
    "delays_dec0, moved_pulses_dec0 = move_to_reference(mean_pulse_dec0, new_test, start = start, stop = stop, max_delay = int(stop-start), channel = 0)\n",
    "delays_dec1, moved_pulses_dec1 = move_to_reference(mean_pulse_dec1, new_test, start = start, stop = stop, max_delay = int(stop-start), channel = 1)\n",
    "\n",
    "test_data = np.stack((moved_pulses_dec0, moved_pulses_dec1), axis = -1)\n",
    "\n",
    "# Create the other positions\n",
    "TEST_00 = test_data \n",
    "TEST_02 = create_position(TEST_00, channel_to_move = 1, channel_to_fix = 0, t_shift = t_shift, NOISE = False)\n",
    "TEST_20 = create_position(TEST_00, channel_to_move = 0, channel_to_fix = 1, t_shift = t_shift, NOISE = False)\n",
    "TEST_04 = create_position(TEST_00, channel_to_move = 1, channel_to_fix = 0, t_shift = int(2*t_shift), NOISE = False)\n",
    "TEST_40 = create_position(TEST_00, channel_to_move = 0, channel_to_fix = 1, t_shift = int(2*t_shift), NOISE = False)\n",
    "TEST = np.concatenate((TEST_02, TEST_00, TEST_20, TEST_04, TEST_40), axis = 0)\n",
    "\n",
    "# Perform Data Augmentation \n",
    "TEST_inverted = TEST[..., ::-1]\n",
    "TEST = np.concatenate((TEST, TEST_inverted), axis = 0)"
   ]
  },
  {
   "cell_type": "code",
   "execution_count": 7,
   "metadata": {},
   "outputs": [
    {
     "data": {
      "image/png": "[encoded data removed]",
      "text/plain": [
       "<Figure size 640x480 with 1 Axes>"
      ]
     },
     "metadata": {},
     "output_type": "display_data"
    }
   ],
   "source": [
    "for i in range(TEST_00.shape[0]):\n",
    "    plt.plot(TEST_00[i,:,0], 'b-')"
   ]
  },
  {
   "cell_type": "code",
   "execution_count": 8,
   "metadata": {},
   "outputs": [],
   "source": [
    "# Load model predictions\n",
    "pred_dec0 = np.load('/home/josea/DEEP_TIMING/DEEP_TIMING_VS/predictions/test_dec0_Na22.npz', allow_pickle = True)['data']\n",
    "pred_dec1 = np.load('/home/josea/DEEP_TIMING/DEEP_TIMING_VS/predictions/test_dec1_Na22.npz', allow_pickle = True)['data']\n",
    "\n",
    "\n",
    "# Calculate TOF and extract the different positions\n",
    "TOF = pred_dec0[-1,:] - pred_dec1[-1,:]\n",
    "\n",
    "TOF_V02 = TOF[:test_data.shape[0]] \n",
    "TOF_V00 = TOF[test_data.shape[0] : 2*test_data.shape[0]] \n",
    "TOF_V20 = TOF[2*test_data.shape[0] :3*test_data.shape[0]] \n",
    "TOF_V04 = TOF[3*test_data.shape[0] :4*test_data.shape[0]] \n",
    "TOF_V40 = TOF[4*test_data.shape[0]:] \n",
    "\n",
    "\n",
    "# Calculate errors\n",
    "centroid_V00, sigmaN_V00 = calculate_gaussian_center_sigma(TOF_V00[None, :], np.zeros((TOF_V00[None, :].shape[0])), nbins = nbins) \n",
    "\n",
    "error_V02 = (TOF_V02 - centroid_V00 + new_time_step*t_shift)\n",
    "error_V00 = (TOF_V00 - centroid_V00)\n",
    "error_V20 = (TOF_V20 - centroid_V00 - new_time_step*t_shift)\n",
    "error_V04 = (TOF_V04 - centroid_V00 + 2*new_time_step*t_shift)\n",
    "error_V40 = (TOF_V40 - centroid_V00 - 2*new_time_step*t_shift)\n",
    "\n",
    "\n",
    "Error = np.concatenate((error_V02, error_V20, error_V00, error_V04, error_V40))\n",
    "\n",
    "# Perform Data Augmentation\n",
    "Error_inverted = -1*Error\n",
    "Error = np.concatenate((Error, Error_inverted), axis = 0)\n",
    "\n",
    "TOF_inverted = -1*TOF\n",
    "TOF = np.concatenate((TOF, TOF_inverted), axis = 0)"
   ]
  },
  {
   "cell_type": "code",
   "execution_count": 9,
   "metadata": {},
   "outputs": [],
   "source": [
    "# Get time independent parameters\n",
    "mean = np.mean(TEST, axis = 1)\n",
    "variance= np.var(TEST, axis = 1)\n",
    "skewness = skew(TEST, axis = 1)\n",
    "kurtosis = kurtosis(TEST, axis = 1)\n",
    "\n",
    "\n",
    "# Concatenate the features\n",
    "features = np.stack((mean[:,0], variance[:,0], skewness[:,0], kurtosis[:,0], \n",
    "                     mean[:,1], variance[:,1], skewness[:,1], kurtosis[:,1]), axis = 1)"
   ]
  },
  {
   "cell_type": "code",
   "execution_count": 10,
   "metadata": {},
   "outputs": [],
   "source": [
    "# Save to a DataFrame \n",
    "features_df = pd.DataFrame(features, columns = ['Mean_dec0', 'Variance_dec0', 'Skewness_dec0', 'Kurtosis_dec0',\n",
    "                                                'Mean_dec1', 'Variance_dec1', 'Skewness_dec1', 'Kurtosis_dec1'])"
   ]
  },
  {
   "cell_type": "code",
   "execution_count": 11,
   "metadata": {},
   "outputs": [
    {
     "data": {
      "text/html": [
       "<style type=\"text/css\">\n",
       "#T_e3bc6_row8_col1, #T_e3bc6_row12_col1 {\n",
       "  background-color: lightgreen;\n",
       "}\n",
       "</style>\n",
       "<table id=\"T_e3bc6\">\n",
       "  <thead>\n",
       "    <tr>\n",
       "      <th class=\"blank level0\" >&nbsp;</th>\n",
       "      <th id=\"T_e3bc6_level0_col0\" class=\"col_heading level0 col0\" >Description</th>\n",
       "      <th id=\"T_e3bc6_level0_col1\" class=\"col_heading level0 col1\" >Value</th>\n",
       "    </tr>\n",
       "  </thead>\n",
       "  <tbody>\n",
       "    <tr>\n",
       "      <th id=\"T_e3bc6_level0_row0\" class=\"row_heading level0 row0\" >0</th>\n",
       "      <td id=\"T_e3bc6_row0_col0\" class=\"data row0 col0\" >Session id</td>\n",
       "      <td id=\"T_e3bc6_row0_col1\" class=\"data row0 col1\" >123</td>\n",
       "    </tr>\n",
       "    <tr>\n",
       "      <th id=\"T_e3bc6_level0_row1\" class=\"row_heading level0 row1\" >1</th>\n",
       "      <td id=\"T_e3bc6_row1_col0\" class=\"data row1 col0\" >Target</td>\n",
       "      <td id=\"T_e3bc6_row1_col1\" class=\"data row1 col1\" >target</td>\n",
       "    </tr>\n",
       "    <tr>\n",
       "      <th id=\"T_e3bc6_level0_row2\" class=\"row_heading level0 row2\" >2</th>\n",
       "      <td id=\"T_e3bc6_row2_col0\" class=\"data row2 col0\" >Target type</td>\n",
       "      <td id=\"T_e3bc6_row2_col1\" class=\"data row2 col1\" >Regression</td>\n",
       "    </tr>\n",
       "    <tr>\n",
       "      <th id=\"T_e3bc6_level0_row3\" class=\"row_heading level0 row3\" >3</th>\n",
       "      <td id=\"T_e3bc6_row3_col0\" class=\"data row3 col0\" >Original data shape</td>\n",
       "      <td id=\"T_e3bc6_row3_col1\" class=\"data row3 col1\" >(30750, 9)</td>\n",
       "    </tr>\n",
       "    <tr>\n",
       "      <th id=\"T_e3bc6_level0_row4\" class=\"row_heading level0 row4\" >4</th>\n",
       "      <td id=\"T_e3bc6_row4_col0\" class=\"data row4 col0\" >Transformed data shape</td>\n",
       "      <td id=\"T_e3bc6_row4_col1\" class=\"data row4 col1\" >(30750, 9)</td>\n",
       "    </tr>\n",
       "    <tr>\n",
       "      <th id=\"T_e3bc6_level0_row5\" class=\"row_heading level0 row5\" >5</th>\n",
       "      <td id=\"T_e3bc6_row5_col0\" class=\"data row5 col0\" >Transformed train set shape</td>\n",
       "      <td id=\"T_e3bc6_row5_col1\" class=\"data row5 col1\" >(21525, 9)</td>\n",
       "    </tr>\n",
       "    <tr>\n",
       "      <th id=\"T_e3bc6_level0_row6\" class=\"row_heading level0 row6\" >6</th>\n",
       "      <td id=\"T_e3bc6_row6_col0\" class=\"data row6 col0\" >Transformed test set shape</td>\n",
       "      <td id=\"T_e3bc6_row6_col1\" class=\"data row6 col1\" >(9225, 9)</td>\n",
       "    </tr>\n",
       "    <tr>\n",
       "      <th id=\"T_e3bc6_level0_row7\" class=\"row_heading level0 row7\" >7</th>\n",
       "      <td id=\"T_e3bc6_row7_col0\" class=\"data row7 col0\" >Numeric features</td>\n",
       "      <td id=\"T_e3bc6_row7_col1\" class=\"data row7 col1\" >8</td>\n",
       "    </tr>\n",
       "    <tr>\n",
       "      <th id=\"T_e3bc6_level0_row8\" class=\"row_heading level0 row8\" >8</th>\n",
       "      <td id=\"T_e3bc6_row8_col0\" class=\"data row8 col0\" >Preprocess</td>\n",
       "      <td id=\"T_e3bc6_row8_col1\" class=\"data row8 col1\" >True</td>\n",
       "    </tr>\n",
       "    <tr>\n",
       "      <th id=\"T_e3bc6_level0_row9\" class=\"row_heading level0 row9\" >9</th>\n",
       "      <td id=\"T_e3bc6_row9_col0\" class=\"data row9 col0\" >Imputation type</td>\n",
       "      <td id=\"T_e3bc6_row9_col1\" class=\"data row9 col1\" >simple</td>\n",
       "    </tr>\n",
       "    <tr>\n",
       "      <th id=\"T_e3bc6_level0_row10\" class=\"row_heading level0 row10\" >10</th>\n",
       "      <td id=\"T_e3bc6_row10_col0\" class=\"data row10 col0\" >Numeric imputation</td>\n",
       "      <td id=\"T_e3bc6_row10_col1\" class=\"data row10 col1\" >mean</td>\n",
       "    </tr>\n",
       "    <tr>\n",
       "      <th id=\"T_e3bc6_level0_row11\" class=\"row_heading level0 row11\" >11</th>\n",
       "      <td id=\"T_e3bc6_row11_col0\" class=\"data row11 col0\" >Categorical imputation</td>\n",
       "      <td id=\"T_e3bc6_row11_col1\" class=\"data row11 col1\" >mode</td>\n",
       "    </tr>\n",
       "    <tr>\n",
       "      <th id=\"T_e3bc6_level0_row12\" class=\"row_heading level0 row12\" >12</th>\n",
       "      <td id=\"T_e3bc6_row12_col0\" class=\"data row12 col0\" >Normalize</td>\n",
       "      <td id=\"T_e3bc6_row12_col1\" class=\"data row12 col1\" >True</td>\n",
       "    </tr>\n",
       "    <tr>\n",
       "      <th id=\"T_e3bc6_level0_row13\" class=\"row_heading level0 row13\" >13</th>\n",
       "      <td id=\"T_e3bc6_row13_col0\" class=\"data row13 col0\" >Normalize method</td>\n",
       "      <td id=\"T_e3bc6_row13_col1\" class=\"data row13 col1\" >zscore</td>\n",
       "    </tr>\n",
       "    <tr>\n",
       "      <th id=\"T_e3bc6_level0_row14\" class=\"row_heading level0 row14\" >14</th>\n",
       "      <td id=\"T_e3bc6_row14_col0\" class=\"data row14 col0\" >Fold Generator</td>\n",
       "      <td id=\"T_e3bc6_row14_col1\" class=\"data row14 col1\" >KFold</td>\n",
       "    </tr>\n",
       "    <tr>\n",
       "      <th id=\"T_e3bc6_level0_row15\" class=\"row_heading level0 row15\" >15</th>\n",
       "      <td id=\"T_e3bc6_row15_col0\" class=\"data row15 col0\" >Fold Number</td>\n",
       "      <td id=\"T_e3bc6_row15_col1\" class=\"data row15 col1\" >10</td>\n",
       "    </tr>\n",
       "    <tr>\n",
       "      <th id=\"T_e3bc6_level0_row16\" class=\"row_heading level0 row16\" >16</th>\n",
       "      <td id=\"T_e3bc6_row16_col0\" class=\"data row16 col0\" >CPU Jobs</td>\n",
       "      <td id=\"T_e3bc6_row16_col1\" class=\"data row16 col1\" >-1</td>\n",
       "    </tr>\n",
       "    <tr>\n",
       "      <th id=\"T_e3bc6_level0_row17\" class=\"row_heading level0 row17\" >17</th>\n",
       "      <td id=\"T_e3bc6_row17_col0\" class=\"data row17 col0\" >Use GPU</td>\n",
       "      <td id=\"T_e3bc6_row17_col1\" class=\"data row17 col1\" >False</td>\n",
       "    </tr>\n",
       "    <tr>\n",
       "      <th id=\"T_e3bc6_level0_row18\" class=\"row_heading level0 row18\" >18</th>\n",
       "      <td id=\"T_e3bc6_row18_col0\" class=\"data row18 col0\" >Log Experiment</td>\n",
       "      <td id=\"T_e3bc6_row18_col1\" class=\"data row18 col1\" >False</td>\n",
       "    </tr>\n",
       "    <tr>\n",
       "      <th id=\"T_e3bc6_level0_row19\" class=\"row_heading level0 row19\" >19</th>\n",
       "      <td id=\"T_e3bc6_row19_col0\" class=\"data row19 col0\" >Experiment Name</td>\n",
       "      <td id=\"T_e3bc6_row19_col1\" class=\"data row19 col1\" >reg-default-name</td>\n",
       "    </tr>\n",
       "    <tr>\n",
       "      <th id=\"T_e3bc6_level0_row20\" class=\"row_heading level0 row20\" >20</th>\n",
       "      <td id=\"T_e3bc6_row20_col0\" class=\"data row20 col0\" >USI</td>\n",
       "      <td id=\"T_e3bc6_row20_col1\" class=\"data row20 col1\" >9c49</td>\n",
       "    </tr>\n",
       "  </tbody>\n",
       "</table>\n"
      ],
      "text/plain": [
       "<pandas.io.formats.style.Styler at 0x7d3883591490>"
      ]
     },
     "metadata": {},
     "output_type": "display_data"
    }
   ],
   "source": [
    "from pycaret.regression import *\n",
    "s = setup(features_df, target = Error,  session_id = 123, normalize = True, normalize_method = 'zscore')"
   ]
  },
  {
   "cell_type": "code",
   "execution_count": 12,
   "metadata": {},
   "outputs": [
    {
     "data": {
      "text/html": [],
      "text/plain": [
       "<IPython.core.display.HTML object>"
      ]
     },
     "metadata": {},
     "output_type": "display_data"
    },
    {
     "data": {
      "text/html": [
       "<style type=\"text/css\">\n",
       "#T_2fae9 th {\n",
       "  text-align: left;\n",
       "}\n",
       "#T_2fae9_row0_col0, #T_2fae9_row0_col6, #T_2fae9_row1_col0, #T_2fae9_row1_col1, #T_2fae9_row1_col2, #T_2fae9_row1_col3, #T_2fae9_row1_col4, #T_2fae9_row1_col6, #T_2fae9_row2_col0, #T_2fae9_row2_col1, #T_2fae9_row2_col2, #T_2fae9_row2_col3, #T_2fae9_row2_col4, #T_2fae9_row2_col6, #T_2fae9_row3_col0, #T_2fae9_row3_col1, #T_2fae9_row3_col2, #T_2fae9_row3_col3, #T_2fae9_row3_col4, #T_2fae9_row3_col6, #T_2fae9_row4_col0, #T_2fae9_row4_col1, #T_2fae9_row4_col2, #T_2fae9_row4_col3, #T_2fae9_row4_col4, #T_2fae9_row4_col6, #T_2fae9_row5_col0, #T_2fae9_row5_col1, #T_2fae9_row5_col2, #T_2fae9_row5_col3, #T_2fae9_row5_col4, #T_2fae9_row5_col6, #T_2fae9_row6_col0, #T_2fae9_row6_col1, #T_2fae9_row6_col2, #T_2fae9_row6_col3, #T_2fae9_row6_col4, #T_2fae9_row6_col6, #T_2fae9_row7_col0, #T_2fae9_row7_col1, #T_2fae9_row7_col2, #T_2fae9_row7_col3, #T_2fae9_row7_col4, #T_2fae9_row7_col6, #T_2fae9_row8_col0, #T_2fae9_row8_col1, #T_2fae9_row8_col2, #T_2fae9_row8_col3, #T_2fae9_row8_col4, #T_2fae9_row9_col0, #T_2fae9_row9_col1, #T_2fae9_row9_col2, #T_2fae9_row9_col3, #T_2fae9_row9_col4, #T_2fae9_row10_col0, #T_2fae9_row10_col1, #T_2fae9_row10_col2, #T_2fae9_row10_col3, #T_2fae9_row10_col4, #T_2fae9_row11_col0, #T_2fae9_row11_col1, #T_2fae9_row11_col2, #T_2fae9_row11_col3, #T_2fae9_row11_col4, #T_2fae9_row12_col0, #T_2fae9_row12_col1, #T_2fae9_row12_col2, #T_2fae9_row12_col3, #T_2fae9_row12_col4, #T_2fae9_row12_col6, #T_2fae9_row13_col0, #T_2fae9_row13_col1, #T_2fae9_row13_col2, #T_2fae9_row13_col3, #T_2fae9_row13_col4, #T_2fae9_row13_col6, #T_2fae9_row14_col0, #T_2fae9_row14_col1, #T_2fae9_row14_col2, #T_2fae9_row14_col3, #T_2fae9_row14_col4, #T_2fae9_row14_col6, #T_2fae9_row15_col0, #T_2fae9_row15_col1, #T_2fae9_row15_col2, #T_2fae9_row15_col3, #T_2fae9_row15_col4, #T_2fae9_row15_col6, #T_2fae9_row16_col0, #T_2fae9_row16_col1, #T_2fae9_row16_col2, #T_2fae9_row16_col3, #T_2fae9_row16_col4, #T_2fae9_row16_col6 {\n",
       "  text-align: left;\n",
       "}\n",
       "#T_2fae9_row0_col1, #T_2fae9_row0_col2, #T_2fae9_row0_col3, #T_2fae9_row0_col4, #T_2fae9_row0_col5, #T_2fae9_row1_col5, #T_2fae9_row2_col5, #T_2fae9_row3_col5, #T_2fae9_row4_col5, #T_2fae9_row5_col5, #T_2fae9_row6_col5, #T_2fae9_row7_col5, #T_2fae9_row8_col5, #T_2fae9_row8_col6, #T_2fae9_row9_col5, #T_2fae9_row9_col6, #T_2fae9_row10_col5, #T_2fae9_row10_col6, #T_2fae9_row11_col5, #T_2fae9_row11_col6, #T_2fae9_row12_col5, #T_2fae9_row13_col5, #T_2fae9_row14_col5, #T_2fae9_row15_col5, #T_2fae9_row16_col5 {\n",
       "  text-align: left;\n",
       "  background-color: yellow;\n",
       "}\n",
       "#T_2fae9_row0_col7, #T_2fae9_row1_col7, #T_2fae9_row2_col7, #T_2fae9_row3_col7, #T_2fae9_row4_col7, #T_2fae9_row5_col7, #T_2fae9_row6_col7, #T_2fae9_row8_col7, #T_2fae9_row9_col7, #T_2fae9_row10_col7, #T_2fae9_row12_col7, #T_2fae9_row13_col7, #T_2fae9_row14_col7, #T_2fae9_row15_col7, #T_2fae9_row16_col7 {\n",
       "  text-align: left;\n",
       "  background-color: lightgrey;\n",
       "}\n",
       "#T_2fae9_row7_col7, #T_2fae9_row11_col7 {\n",
       "  text-align: left;\n",
       "  background-color: yellow;\n",
       "  background-color: lightgrey;\n",
       "}\n",
       "</style>\n",
       "<table id=\"T_2fae9\">\n",
       "  <thead>\n",
       "    <tr>\n",
       "      <th class=\"blank level0\" >&nbsp;</th>\n",
       "      <th id=\"T_2fae9_level0_col0\" class=\"col_heading level0 col0\" >Model</th>\n",
       "      <th id=\"T_2fae9_level0_col1\" class=\"col_heading level0 col1\" >MAE</th>\n",
       "      <th id=\"T_2fae9_level0_col2\" class=\"col_heading level0 col2\" >MSE</th>\n",
       "      <th id=\"T_2fae9_level0_col3\" class=\"col_heading level0 col3\" >RMSE</th>\n",
       "      <th id=\"T_2fae9_level0_col4\" class=\"col_heading level0 col4\" >R2</th>\n",
       "      <th id=\"T_2fae9_level0_col5\" class=\"col_heading level0 col5\" >RMSLE</th>\n",
       "      <th id=\"T_2fae9_level0_col6\" class=\"col_heading level0 col6\" >MAPE</th>\n",
       "      <th id=\"T_2fae9_level0_col7\" class=\"col_heading level0 col7\" >TT (Sec)</th>\n",
       "    </tr>\n",
       "  </thead>\n",
       "  <tbody>\n",
       "    <tr>\n",
       "      <th id=\"T_2fae9_level0_row0\" class=\"row_heading level0 row0\" >rf</th>\n",
       "      <td id=\"T_2fae9_row0_col0\" class=\"data row0 col0\" >Random Forest Regressor</td>\n",
       "      <td id=\"T_2fae9_row0_col1\" class=\"data row0 col1\" >0.0682</td>\n",
       "      <td id=\"T_2fae9_row0_col2\" class=\"data row0 col2\" >0.0097</td>\n",
       "      <td id=\"T_2fae9_row0_col3\" class=\"data row0 col3\" >0.0984</td>\n",
       "      <td id=\"T_2fae9_row0_col4\" class=\"data row0 col4\" >0.2571</td>\n",
       "      <td id=\"T_2fae9_row0_col5\" class=\"data row0 col5\" >0.0000</td>\n",
       "      <td id=\"T_2fae9_row0_col6\" class=\"data row0 col6\" >2.1084</td>\n",
       "      <td id=\"T_2fae9_row0_col7\" class=\"data row0 col7\" >0.6990</td>\n",
       "    </tr>\n",
       "    <tr>\n",
       "      <th id=\"T_2fae9_level0_row1\" class=\"row_heading level0 row1\" >et</th>\n",
       "      <td id=\"T_2fae9_row1_col0\" class=\"data row1 col0\" >Extra Trees Regressor</td>\n",
       "      <td id=\"T_2fae9_row1_col1\" class=\"data row1 col1\" >0.0704</td>\n",
       "      <td id=\"T_2fae9_row1_col2\" class=\"data row1 col2\" >0.0106</td>\n",
       "      <td id=\"T_2fae9_row1_col3\" class=\"data row1 col3\" >0.1025</td>\n",
       "      <td id=\"T_2fae9_row1_col4\" class=\"data row1 col4\" >0.1937</td>\n",
       "      <td id=\"T_2fae9_row1_col5\" class=\"data row1 col5\" >0.0000</td>\n",
       "      <td id=\"T_2fae9_row1_col6\" class=\"data row1 col6\" >2.1501</td>\n",
       "      <td id=\"T_2fae9_row1_col7\" class=\"data row1 col7\" >0.1380</td>\n",
       "    </tr>\n",
       "    <tr>\n",
       "      <th id=\"T_2fae9_level0_row2\" class=\"row_heading level0 row2\" >gbr</th>\n",
       "      <td id=\"T_2fae9_row2_col0\" class=\"data row2 col0\" >Gradient Boosting Regressor</td>\n",
       "      <td id=\"T_2fae9_row2_col1\" class=\"data row2 col1\" >0.0770</td>\n",
       "      <td id=\"T_2fae9_row2_col2\" class=\"data row2 col2\" >0.0123</td>\n",
       "      <td id=\"T_2fae9_row2_col3\" class=\"data row2 col3\" >0.1105</td>\n",
       "      <td id=\"T_2fae9_row2_col4\" class=\"data row2 col4\" >0.0629</td>\n",
       "      <td id=\"T_2fae9_row2_col5\" class=\"data row2 col5\" >0.0000</td>\n",
       "      <td id=\"T_2fae9_row2_col6\" class=\"data row2 col6\" >1.4698</td>\n",
       "      <td id=\"T_2fae9_row2_col7\" class=\"data row2 col7\" >0.4110</td>\n",
       "    </tr>\n",
       "    <tr>\n",
       "      <th id=\"T_2fae9_level0_row3\" class=\"row_heading level0 row3\" >lr</th>\n",
       "      <td id=\"T_2fae9_row3_col0\" class=\"data row3 col0\" >Linear Regression</td>\n",
       "      <td id=\"T_2fae9_row3_col1\" class=\"data row3 col1\" >0.0773</td>\n",
       "      <td id=\"T_2fae9_row3_col2\" class=\"data row3 col2\" >0.0129</td>\n",
       "      <td id=\"T_2fae9_row3_col3\" class=\"data row3 col3\" >0.1132</td>\n",
       "      <td id=\"T_2fae9_row3_col4\" class=\"data row3 col4\" >0.0184</td>\n",
       "      <td id=\"T_2fae9_row3_col5\" class=\"data row3 col5\" >0.0000</td>\n",
       "      <td id=\"T_2fae9_row3_col6\" class=\"data row3 col6\" >1.6543</td>\n",
       "      <td id=\"T_2fae9_row3_col7\" class=\"data row3 col7\" >0.3370</td>\n",
       "    </tr>\n",
       "    <tr>\n",
       "      <th id=\"T_2fae9_level0_row4\" class=\"row_heading level0 row4\" >ridge</th>\n",
       "      <td id=\"T_2fae9_row4_col0\" class=\"data row4 col0\" >Ridge Regression</td>\n",
       "      <td id=\"T_2fae9_row4_col1\" class=\"data row4 col1\" >0.0773</td>\n",
       "      <td id=\"T_2fae9_row4_col2\" class=\"data row4 col2\" >0.0129</td>\n",
       "      <td id=\"T_2fae9_row4_col3\" class=\"data row4 col3\" >0.1132</td>\n",
       "      <td id=\"T_2fae9_row4_col4\" class=\"data row4 col4\" >0.0184</td>\n",
       "      <td id=\"T_2fae9_row4_col5\" class=\"data row4 col5\" >0.0000</td>\n",
       "      <td id=\"T_2fae9_row4_col6\" class=\"data row4 col6\" >1.6419</td>\n",
       "      <td id=\"T_2fae9_row4_col7\" class=\"data row4 col7\" >0.0770</td>\n",
       "    </tr>\n",
       "    <tr>\n",
       "      <th id=\"T_2fae9_level0_row5\" class=\"row_heading level0 row5\" >br</th>\n",
       "      <td id=\"T_2fae9_row5_col0\" class=\"data row5 col0\" >Bayesian Ridge</td>\n",
       "      <td id=\"T_2fae9_row5_col1\" class=\"data row5 col1\" >0.0773</td>\n",
       "      <td id=\"T_2fae9_row5_col2\" class=\"data row5 col2\" >0.0129</td>\n",
       "      <td id=\"T_2fae9_row5_col3\" class=\"data row5 col3\" >0.1132</td>\n",
       "      <td id=\"T_2fae9_row5_col4\" class=\"data row5 col4\" >0.0184</td>\n",
       "      <td id=\"T_2fae9_row5_col5\" class=\"data row5 col5\" >0.0000</td>\n",
       "      <td id=\"T_2fae9_row5_col6\" class=\"data row5 col6\" >1.6300</td>\n",
       "      <td id=\"T_2fae9_row5_col7\" class=\"data row5 col7\" >0.0060</td>\n",
       "    </tr>\n",
       "    <tr>\n",
       "      <th id=\"T_2fae9_level0_row6\" class=\"row_heading level0 row6\" >huber</th>\n",
       "      <td id=\"T_2fae9_row6_col0\" class=\"data row6 col0\" >Huber Regressor</td>\n",
       "      <td id=\"T_2fae9_row6_col1\" class=\"data row6 col1\" >0.0770</td>\n",
       "      <td id=\"T_2fae9_row6_col2\" class=\"data row6 col2\" >0.0129</td>\n",
       "      <td id=\"T_2fae9_row6_col3\" class=\"data row6 col3\" >0.1133</td>\n",
       "      <td id=\"T_2fae9_row6_col4\" class=\"data row6 col4\" >0.0163</td>\n",
       "      <td id=\"T_2fae9_row6_col5\" class=\"data row6 col5\" >0.0000</td>\n",
       "      <td id=\"T_2fae9_row6_col6\" class=\"data row6 col6\" >1.9226</td>\n",
       "      <td id=\"T_2fae9_row6_col7\" class=\"data row6 col7\" >0.0110</td>\n",
       "    </tr>\n",
       "    <tr>\n",
       "      <th id=\"T_2fae9_level0_row7\" class=\"row_heading level0 row7\" >omp</th>\n",
       "      <td id=\"T_2fae9_row7_col0\" class=\"data row7 col0\" >Orthogonal Matching Pursuit</td>\n",
       "      <td id=\"T_2fae9_row7_col1\" class=\"data row7 col1\" >0.0792</td>\n",
       "      <td id=\"T_2fae9_row7_col2\" class=\"data row7 col2\" >0.0131</td>\n",
       "      <td id=\"T_2fae9_row7_col3\" class=\"data row7 col3\" >0.1141</td>\n",
       "      <td id=\"T_2fae9_row7_col4\" class=\"data row7 col4\" >0.0011</td>\n",
       "      <td id=\"T_2fae9_row7_col5\" class=\"data row7 col5\" >0.0000</td>\n",
       "      <td id=\"T_2fae9_row7_col6\" class=\"data row7 col6\" >1.1698</td>\n",
       "      <td id=\"T_2fae9_row7_col7\" class=\"data row7 col7\" >0.0040</td>\n",
       "    </tr>\n",
       "    <tr>\n",
       "      <th id=\"T_2fae9_level0_row8\" class=\"row_heading level0 row8\" >llar</th>\n",
       "      <td id=\"T_2fae9_row8_col0\" class=\"data row8 col0\" >Lasso Least Angle Regression</td>\n",
       "      <td id=\"T_2fae9_row8_col1\" class=\"data row8 col1\" >0.0793</td>\n",
       "      <td id=\"T_2fae9_row8_col2\" class=\"data row8 col2\" >0.0131</td>\n",
       "      <td id=\"T_2fae9_row8_col3\" class=\"data row8 col3\" >0.1142</td>\n",
       "      <td id=\"T_2fae9_row8_col4\" class=\"data row8 col4\" >-0.0004</td>\n",
       "      <td id=\"T_2fae9_row8_col5\" class=\"data row8 col5\" >0.0000</td>\n",
       "      <td id=\"T_2fae9_row8_col6\" class=\"data row8 col6\" >1.0083</td>\n",
       "      <td id=\"T_2fae9_row8_col7\" class=\"data row8 col7\" >0.0050</td>\n",
       "    </tr>\n",
       "    <tr>\n",
       "      <th id=\"T_2fae9_level0_row9\" class=\"row_heading level0 row9\" >lasso</th>\n",
       "      <td id=\"T_2fae9_row9_col0\" class=\"data row9 col0\" >Lasso Regression</td>\n",
       "      <td id=\"T_2fae9_row9_col1\" class=\"data row9 col1\" >0.0793</td>\n",
       "      <td id=\"T_2fae9_row9_col2\" class=\"data row9 col2\" >0.0131</td>\n",
       "      <td id=\"T_2fae9_row9_col3\" class=\"data row9 col3\" >0.1142</td>\n",
       "      <td id=\"T_2fae9_row9_col4\" class=\"data row9 col4\" >-0.0004</td>\n",
       "      <td id=\"T_2fae9_row9_col5\" class=\"data row9 col5\" >0.0000</td>\n",
       "      <td id=\"T_2fae9_row9_col6\" class=\"data row9 col6\" >1.0083</td>\n",
       "      <td id=\"T_2fae9_row9_col7\" class=\"data row9 col7\" >0.0750</td>\n",
       "    </tr>\n",
       "    <tr>\n",
       "      <th id=\"T_2fae9_level0_row10\" class=\"row_heading level0 row10\" >en</th>\n",
       "      <td id=\"T_2fae9_row10_col0\" class=\"data row10 col0\" >Elastic Net</td>\n",
       "      <td id=\"T_2fae9_row10_col1\" class=\"data row10 col1\" >0.0793</td>\n",
       "      <td id=\"T_2fae9_row10_col2\" class=\"data row10 col2\" >0.0131</td>\n",
       "      <td id=\"T_2fae9_row10_col3\" class=\"data row10 col3\" >0.1142</td>\n",
       "      <td id=\"T_2fae9_row10_col4\" class=\"data row10 col4\" >-0.0004</td>\n",
       "      <td id=\"T_2fae9_row10_col5\" class=\"data row10 col5\" >0.0000</td>\n",
       "      <td id=\"T_2fae9_row10_col6\" class=\"data row10 col6\" >1.0083</td>\n",
       "      <td id=\"T_2fae9_row10_col7\" class=\"data row10 col7\" >0.0510</td>\n",
       "    </tr>\n",
       "    <tr>\n",
       "      <th id=\"T_2fae9_level0_row11\" class=\"row_heading level0 row11\" >dummy</th>\n",
       "      <td id=\"T_2fae9_row11_col0\" class=\"data row11 col0\" >Dummy Regressor</td>\n",
       "      <td id=\"T_2fae9_row11_col1\" class=\"data row11 col1\" >0.0793</td>\n",
       "      <td id=\"T_2fae9_row11_col2\" class=\"data row11 col2\" >0.0131</td>\n",
       "      <td id=\"T_2fae9_row11_col3\" class=\"data row11 col3\" >0.1142</td>\n",
       "      <td id=\"T_2fae9_row11_col4\" class=\"data row11 col4\" >-0.0004</td>\n",
       "      <td id=\"T_2fae9_row11_col5\" class=\"data row11 col5\" >0.0000</td>\n",
       "      <td id=\"T_2fae9_row11_col6\" class=\"data row11 col6\" >1.0083</td>\n",
       "      <td id=\"T_2fae9_row11_col7\" class=\"data row11 col7\" >0.0040</td>\n",
       "    </tr>\n",
       "    <tr>\n",
       "      <th id=\"T_2fae9_level0_row12\" class=\"row_heading level0 row12\" >knn</th>\n",
       "      <td id=\"T_2fae9_row12_col0\" class=\"data row12 col0\" >K Neighbors Regressor</td>\n",
       "      <td id=\"T_2fae9_row12_col1\" class=\"data row12 col1\" >0.0853</td>\n",
       "      <td id=\"T_2fae9_row12_col2\" class=\"data row12 col2\" >0.0149</td>\n",
       "      <td id=\"T_2fae9_row12_col3\" class=\"data row12 col3\" >0.1219</td>\n",
       "      <td id=\"T_2fae9_row12_col4\" class=\"data row12 col4\" >-0.1407</td>\n",
       "      <td id=\"T_2fae9_row12_col5\" class=\"data row12 col5\" >0.0000</td>\n",
       "      <td id=\"T_2fae9_row12_col6\" class=\"data row12 col6\" >3.4963</td>\n",
       "      <td id=\"T_2fae9_row12_col7\" class=\"data row12 col7\" >0.0100</td>\n",
       "    </tr>\n",
       "    <tr>\n",
       "      <th id=\"T_2fae9_level0_row13\" class=\"row_heading level0 row13\" >dt</th>\n",
       "      <td id=\"T_2fae9_row13_col0\" class=\"data row13 col0\" >Decision Tree Regressor</td>\n",
       "      <td id=\"T_2fae9_row13_col1\" class=\"data row13 col1\" >0.0781</td>\n",
       "      <td id=\"T_2fae9_row13_col2\" class=\"data row13 col2\" >0.0166</td>\n",
       "      <td id=\"T_2fae9_row13_col3\" class=\"data row13 col3\" >0.1287</td>\n",
       "      <td id=\"T_2fae9_row13_col4\" class=\"data row13 col4\" >-0.2754</td>\n",
       "      <td id=\"T_2fae9_row13_col5\" class=\"data row13 col5\" >0.0000</td>\n",
       "      <td id=\"T_2fae9_row13_col6\" class=\"data row13 col6\" >4.5702</td>\n",
       "      <td id=\"T_2fae9_row13_col7\" class=\"data row13 col7\" >0.0310</td>\n",
       "    </tr>\n",
       "    <tr>\n",
       "      <th id=\"T_2fae9_level0_row14\" class=\"row_heading level0 row14\" >ada</th>\n",
       "      <td id=\"T_2fae9_row14_col0\" class=\"data row14 col0\" >AdaBoost Regressor</td>\n",
       "      <td id=\"T_2fae9_row14_col1\" class=\"data row14 col1\" >0.1127</td>\n",
       "      <td id=\"T_2fae9_row14_col2\" class=\"data row14 col2\" >0.0241</td>\n",
       "      <td id=\"T_2fae9_row14_col3\" class=\"data row14 col3\" >0.1543</td>\n",
       "      <td id=\"T_2fae9_row14_col4\" class=\"data row14 col4\" >-0.8478</td>\n",
       "      <td id=\"T_2fae9_row14_col5\" class=\"data row14 col5\" >0.0000</td>\n",
       "      <td id=\"T_2fae9_row14_col6\" class=\"data row14 col6\" >5.2167</td>\n",
       "      <td id=\"T_2fae9_row14_col7\" class=\"data row14 col7\" >0.0840</td>\n",
       "    </tr>\n",
       "    <tr>\n",
       "      <th id=\"T_2fae9_level0_row15\" class=\"row_heading level0 row15\" >lar</th>\n",
       "      <td id=\"T_2fae9_row15_col0\" class=\"data row15 col0\" >Least Angle Regression</td>\n",
       "      <td id=\"T_2fae9_row15_col1\" class=\"data row15 col1\" >0.1140</td>\n",
       "      <td id=\"T_2fae9_row15_col2\" class=\"data row15 col2\" >0.0255</td>\n",
       "      <td id=\"T_2fae9_row15_col3\" class=\"data row15 col3\" >0.1571</td>\n",
       "      <td id=\"T_2fae9_row15_col4\" class=\"data row15 col4\" >-0.9877</td>\n",
       "      <td id=\"T_2fae9_row15_col5\" class=\"data row15 col5\" >0.0000</td>\n",
       "      <td id=\"T_2fae9_row15_col6\" class=\"data row15 col6\" >6.8473</td>\n",
       "      <td id=\"T_2fae9_row15_col7\" class=\"data row15 col7\" >0.0070</td>\n",
       "    </tr>\n",
       "    <tr>\n",
       "      <th id=\"T_2fae9_level0_row16\" class=\"row_heading level0 row16\" >par</th>\n",
       "      <td id=\"T_2fae9_row16_col0\" class=\"data row16 col0\" >Passive Aggressive Regressor</td>\n",
       "      <td id=\"T_2fae9_row16_col1\" class=\"data row16 col1\" >0.1295</td>\n",
       "      <td id=\"T_2fae9_row16_col2\" class=\"data row16 col2\" >0.0308</td>\n",
       "      <td id=\"T_2fae9_row16_col3\" class=\"data row16 col3\" >0.1706</td>\n",
       "      <td id=\"T_2fae9_row16_col4\" class=\"data row16 col4\" >-1.3298</td>\n",
       "      <td id=\"T_2fae9_row16_col5\" class=\"data row16 col5\" >0.0000</td>\n",
       "      <td id=\"T_2fae9_row16_col6\" class=\"data row16 col6\" >8.0143</td>\n",
       "      <td id=\"T_2fae9_row16_col7\" class=\"data row16 col7\" >0.0050</td>\n",
       "    </tr>\n",
       "  </tbody>\n",
       "</table>\n"
      ],
      "text/plain": [
       "<pandas.io.formats.style.Styler at 0x7d38d952d3d0>"
      ]
     },
     "metadata": {},
     "output_type": "display_data"
    },
    {
     "data": {
      "text/html": [],
      "text/plain": [
       "<IPython.core.display.HTML object>"
      ]
     },
     "metadata": {},
     "output_type": "display_data"
    },
    {
     "name": "stdout",
     "output_type": "stream",
     "text": [
      "RandomForestRegressor(n_jobs=-1, random_state=123)\n"
     ]
    }
   ],
   "source": [
    "model = compare_models('')\n",
    "print(model)"
   ]
  },
  {
   "cell_type": "code",
   "execution_count": 13,
   "metadata": {},
   "outputs": [
    {
     "data": {
      "application/vnd.jupyter.widget-view+json": {
       "model_id": "e56d1db536264de7a8551e0033e6d4e6",
       "version_major": 2,
       "version_minor": 0
      },
      "text/plain": [
       "interactive(children=(ToggleButtons(description='Plot Type:', icons=('',), options=(('Pipeline Plot', 'pipelin…"
      ]
     },
     "metadata": {},
     "output_type": "display_data"
    }
   ],
   "source": [
    "# Get more detailed model evaluations\n",
    "evaluate_model(model)"
   ]
  },
  {
   "cell_type": "code",
   "execution_count": 14,
   "metadata": {},
   "outputs": [
    {
     "data": {
      "text/html": [],
      "text/plain": [
       "<IPython.core.display.HTML object>"
      ]
     },
     "metadata": {},
     "output_type": "display_data"
    },
    {
     "data": {
      "image/png": "[encoded data removed]",
      "text/plain": [
       "<Figure size 800x550 with 1 Axes>"
      ]
     },
     "metadata": {},
     "output_type": "display_data"
    }
   ],
   "source": [
    "predictions_ML = predict_model(model, data = features_df)\n",
    "\n",
    "Error_pred = predictions_ML['prediction_label'].to_numpy() - Error\n",
    "plt.hist(Error_pred, bins = nbins + 51);"
   ]
  },
  {
   "cell_type": "markdown",
   "metadata": {},
   "source": [
    "# **CORRECT PREDICTIONS**"
   ]
  },
  {
   "cell_type": "code",
   "execution_count": 15,
   "metadata": {},
   "outputs": [],
   "source": [
    "TOF_corr = TOF - predictions_ML['prediction_label'].to_numpy() \n",
    "\n",
    "#TOF_V02_corr = TOF_corr[:test_data.shape[0]] \n",
    "#TOF_V00_corr = TOF_corr[test_data.shape[0] : 2*test_data.shape[0]] \n",
    "#TOF_V20_corr = TOF_corr[2*test_data.shape[0] :3*test_data.shape[0]] \n",
    "#TOF_V04_corr = TOF_corr[3*test_data.shape[0] :4*test_data.shape[0]] \n",
    "#TOF_V40_corr = TOF_corr[4*test_data.shape[0]:] \n",
    "\n",
    "TOF_V02_corr = TOF_corr[:test_data.shape[0]] \n",
    "TOF_V00_corr = TOF_corr[test_data.shape[0] : 2*test_data.shape[0]] \n",
    "TOF_V20_corr = TOF_corr[2*test_data.shape[0] :3*test_data.shape[0]] \n",
    "TOF_V04_corr = TOF_corr[3*test_data.shape[0] :4*test_data.shape[0]] \n",
    "TOF_V40_corr = TOF_corr[4*test_data.shape[0]: 5*test_data.shape[0]] \n",
    "\n",
    "TOF_V20_corr2 = TOF_corr[5*test_data.shape[0] : 6*test_data.shape[0]] \n",
    "TOF_V00_corr2 = TOF_corr[6*test_data.shape[0] : 7*test_data.shape[0]] \n",
    "TOF_V02_corr2 = TOF_corr[7*test_data.shape[0] : 8*test_data.shape[0]] \n",
    "TOF_V40_corr2 = TOF_corr[8*test_data.shape[0] : 9*test_data.shape[0]] \n",
    "TOF_V04_corr2 = TOF_corr[9*test_data.shape[0]:] \n",
    "\n",
    "TOF_V02_corr = np.concatenate((TOF_V02_corr, TOF_V02_corr2), axis = 0)\n",
    "TOF_V00_corr = np.concatenate((TOF_V00_corr, TOF_V00_corr2), axis = 0)\n",
    "TOF_V20_corr = np.concatenate((TOF_V20_corr, TOF_V20_corr2), axis = 0)\n",
    "TOF_V04_corr = np.concatenate((TOF_V04_corr, TOF_V04_corr2), axis = 0)\n",
    "TOF_V40_corr = np.concatenate((TOF_V40_corr, TOF_V40_corr2), axis = 0) "
   ]
  },
  {
   "cell_type": "code",
   "execution_count": 16,
   "metadata": {},
   "outputs": [
    {
     "name": "stdout",
     "output_type": "stream",
     "text": [
      "V40: CENTROID(ns) = 0.4011 +/- 0.00041  FWHM(ns) = 0.0848 +/- 0.00042\n",
      "V20: CENTROID(ns) = 0.2009 +/- 0.00045  FWHM(ns) = 0.0823 +/- 0.00046\n",
      "V00: CENTROID(ns) = -0.0001 +/- 0.00036  FWHM(ns) = 0.0768 +/- 0.00037\n",
      "V02: CENTROID(ns) = -0.2008 +/- 0.00042  FWHM(ns) = 0.0797 +/- 0.00043\n",
      "V04: CENTROID(ns) = -0.4011 +/- 0.00043  FWHM(ns) = 0.0830 +/- 0.00044\n",
      "\n"
     ]
    },
    {
     "data": {
      "image/png": "[encoded data removed]",
      "text/plain": [
       "<Figure size 800x550 with 1 Axes>"
      ]
     },
     "metadata": {},
     "output_type": "display_data"
    }
   ],
   "source": [
    "centroid_V00, sigmaN_V00 = calculate_gaussian_center_sigma(TOF_V00_corr[None, :], np.zeros((TOF_V00_corr[None, :].shape[0])), nbins = nbins + 51) \n",
    "\n",
    "\n",
    "# Histogram and gaussian fit \n",
    "plot_gaussian(TOF_V04_corr, centroid_V00, range = 0.8, label = '-0.4 ns offset', nbins = nbins + 51)\n",
    "plot_gaussian(TOF_V02_corr, centroid_V00, range = 0.8, label = '-0.2 ns offset', nbins = nbins + 51)\n",
    "plot_gaussian(TOF_V00_corr, centroid_V00, range = 0.8, label = ' 0.0 ns offset', nbins = nbins + 51)\n",
    "plot_gaussian(TOF_V20_corr, centroid_V00, range = 0.8, label = ' 0.2 ns offset', nbins = nbins + 51)\n",
    "plot_gaussian(TOF_V40_corr, centroid_V00, range = 0.8, label = ' 0.4 ns offset', nbins = nbins + 51)\n",
    "\n",
    "\n",
    "params_V04, errors_V04 = get_gaussian_params(TOF_V04_corr, centroid_V00, range = 0.8, nbins = nbins + 51)\n",
    "params_V02, errors_V02 = get_gaussian_params(TOF_V02_corr, centroid_V00, range = 0.8, nbins = nbins + 51)\n",
    "params_V00, errors_V00 = get_gaussian_params(TOF_V00_corr, centroid_V00, range = 0.8, nbins = nbins + 51)\n",
    "params_V20, errors_V20 = get_gaussian_params(TOF_V20_corr, centroid_V00, range = 0.8, nbins = nbins + 51)\n",
    "params_V40, errors_V40 = get_gaussian_params(TOF_V40_corr, centroid_V00, range = 0.8, nbins = nbins + 51)\n",
    "\n",
    "\n",
    "print(\"V40: CENTROID(ns) = %.4f +/- %.5f  FWHM(ns) = %.4f +/- %.5f\" % (params_V40[2], errors_V40[2], params_V40[3], errors_V40[3]))\n",
    "print(\"V20: CENTROID(ns) = %.4f +/- %.5f  FWHM(ns) = %.4f +/- %.5f\" % (params_V20[2], errors_V20[2], params_V20[3], errors_V20[3]))\n",
    "print(\"V00: CENTROID(ns) = %.4f +/- %.5f  FWHM(ns) = %.4f +/- %.5f\" % (params_V00[2], errors_V00[2], params_V00[3], errors_V00[3]))\n",
    "print(\"V02: CENTROID(ns) = %.4f +/- %.5f  FWHM(ns) = %.4f +/- %.5f\" % (params_V02[2], errors_V02[2], params_V02[3], errors_V02[3]))\n",
    "print(\"V04: CENTROID(ns) = %.4f +/- %.5f  FWHM(ns) = %.4f +/- %.5f\" % (params_V04[2], errors_V04[2], params_V04[3], errors_V04[3]))\n",
    "\n",
    "print('')\n",
    "plt.legend()\n",
    "plt.xlabel('$\\Delta t$ (ns)', fontsize = 14)\n",
    "plt.ylabel('Counts', fontsize = 14)\n",
    "plt.show()\n"
   ]
  },
  {
   "cell_type": "markdown",
   "metadata": {},
   "source": [
    "# usar relaciona"
   ]
  },
  {
   "cell_type": "markdown",
   "metadata": {},
   "source": [
    "duplicar etiquetas?? data augmentation??\n",
    "revisar y vs y_hat hacerlo yo"
   ]
  }
 ],
 "metadata": {
  "kernelspec": {
   "display_name": "Python 3",
   "language": "python",
   "name": "python3"
  },
  "language_info": {
   "codemirror_mode": {
    "name": "ipython",
    "version": 3
   },
   "file_extension": ".py",
   "mimetype": "text/x-python",
   "name": "python",
   "nbconvert_exporter": "python",
   "pygments_lexer": "ipython3",
   "version": "3.11.10"
  }
 },
 "nbformat": 4,
 "nbformat_minor": 2
}
